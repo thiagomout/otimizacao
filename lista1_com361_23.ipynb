{
 "cells": [
  {
   "cell_type": "markdown",
   "metadata": {},
   "source": [
    "<h1 style=\"text-align:center;\">Introdução à Otimização &ndash; Professor Amit Bhaya &ndash; 2023/2</h1>\n",
    "<h2 style=\"text-align:center;\">Lista 1</h2>\n",
    "<h2 style=\"text-align:center;\">Entrega: 04 de setembro de 2023"
   ]
  },
  {
   "cell_type": "code",
   "execution_count": 3,
   "metadata": {},
   "outputs": [
    {
     "name": "stdout",
     "output_type": "stream",
     "text": [
      "  0.000129 seconds (140 allocations: 13.102 KiB)\n",
      "  0.000104 seconds (140 allocations: 13.102 KiB)\n",
      "  0.000105 seconds (140 allocations: 13.102 KiB)\n"
     ]
    }
   ],
   "source": [
    "@time using Clp\n",
    "@time using JuMP\n",
    "@time using PyPlot"
   ]
  },
  {
   "cell_type": "code",
   "execution_count": 4,
   "metadata": {},
   "outputs": [
    {
     "name": "stdout",
     "output_type": "stream",
     "text": [
      "Julia Version 1.9.2\n",
      "Commit e4ee485e909 (2023-07-05 09:39 UTC)\n",
      "Platform Info:\n",
      "  OS: Linux (x86_64-linux-gnu)\n",
      "  CPU: 8 × Intel(R) Core(TM) i7-1065G7 CPU @ 1.30GHz\n",
      "  WORD_SIZE: 64\n",
      "  LIBM: libopenlibm\n",
      "  LLVM: libLLVM-14.0.6 (ORCJIT, icelake-client)\n",
      "  Threads: 2 on 8 virtual cores\n"
     ]
    }
   ],
   "source": [
    "versioninfo()"
   ]
  },
  {
   "cell_type": "markdown",
   "metadata": {},
   "source": [
    "## Problema 1: \n",
    "\n",
    "Considere o problema de otimização abaixo:\n",
    "\n",
    "\\begin{align}\n",
    "& \\text{maximize}_{u,v,w} \\quad -u + v - w \\\\\n",
    "& \\text{sujeito a} \\quad -5u + 5v + 3w \\leq 10 \\\\\n",
    "& \\qquad 5u - 5v - 3w \\leq 10 \\\\\n",
    "& \\qquad -2u + 2v - w \\leq -1 \\\\\n",
    "& \\qquad \\qquad w \\leq 3 \\\\\n",
    "& \\qquad u,v,w \\geq 0\n",
    "\\end{align}\n",
    " - Resolva o programa linear (PL), utilizando JuMP/Julia.\n",
    " - Transforme o PL abaixo à forma padrão $\\max {c}^\\top {x}$, sujeito a ${Ax}\\leq {b}, {x}\\geq 0$. Resolva de novo em JuMP, utilizando a forma padrão matricial. Compare as duas soluções obtidas."
   ]
  },
  {
   "cell_type": "markdown",
   "metadata": {},
   "source": [
    "### Solução do problem 1:"
   ]
  },
  {
   "cell_type": "code",
   "execution_count": 11,
   "metadata": {},
   "outputs": [
    {
     "data": {
      "text/latex": [
       "$$ \\begin{aligned}\n",
       "\\max\\quad & -u + v - w\\\\\n",
       "\\text{Subject to} \\quad & w \\leq 3\\\\\n",
       " & -5 u + 3 w + 5 v \\leq 10\\\\\n",
       " & 5 u - 3 w - 5 v \\leq 10\\\\\n",
       " & -2 u - w + 2 v \\leq -1\\\\\n",
       " & u \\geq 0\\\\\n",
       " & w \\geq 0\\\\\n",
       " & v \\geq 0\\\\\n",
       "\\end{aligned} $$"
      ]
     },
     "metadata": {},
     "output_type": "display_data"
    },
    {
     "name": "stdout",
     "output_type": "stream",
     "text": [
      "u = 1.00000000005e10\n",
      "v = 1.0e10\n",
      "w = 0.0\n",
      "objective = -0.5\n",
      "Coin0506I Presolve 3 (-1) rows, 3 (0) columns and 9 (-1) elements\n",
      "Clp0006I 0  Obj -0 Primal inf 0.499999 (1) Dual inf 0.999999 (1)\n",
      "Clp0006I 1  Obj -0.5\n",
      "Clp0000I Optimal - objective value -0.5\n",
      "Coin0511I After Postsolve, objective -0.5, infeasibilities - dual 0 (0), primal 0 (0)\n",
      "Clp0032I Optimal objective -0.5 - 1 iterations time 0.002, Presolve 0.00\n"
     ]
    }
   ],
   "source": [
    "m = Model(Clp.Optimizer)\n",
    "@variable(m, u >=0)\n",
    "@variable(m, w >=0)\n",
    "@variable(m, v >=0)\n",
    "@constraint(m, w<=3)\n",
    "@constraint(m, -5u +5v +3w <=10)\n",
    "@constraint(m, +5u -5v -3w <=10)\n",
    "@constraint(m, -2u +2v -w <=-1)\n",
    "@objective(m, Max,-u +v -w)\n",
    "print(m)\n",
    "optimize!(m)\n",
    "println(\"u = \", JuMP.value.(u) )\n",
    "println(\"v = \", JuMP.value.(v) )\n",
    "println(\"w = \", JuMP.value.(w) )\n",
    "println(\"objective = \", JuMP.objective_value(m) )\n",
    "\n",
    "\n"
   ]
  },
  {
   "cell_type": "markdown",
   "metadata": {},
   "source": [
    "## Problema 2: \n",
    "\n",
    "Considere o LP\n",
    "\\begin{align}\n",
    "& \\text{minimize}\\quad c_1 x_1 + c_2 x_2 + c_3 x_3 \\\\\n",
    "& \\text{sujeito a}\\quad x_1 + x_2 \\geq 1 \\\\\n",
    "& \\qquad x_1 + 2x_2 \\leq 3 \\\\\n",
    "& \\qquad x_1,x_2,x_3 \\geq 0\n",
    "\\end{align}\n",
    "Dê o valor ótimo e o conjunto ótimo para os seguintes valores de $c$: $c=(-1,0,1),c=(0,1,0),c=(0,0,-1)$."
   ]
  },
  {
   "cell_type": "markdown",
   "metadata": {},
   "source": [
    "### Solução do problema 2:"
   ]
  },
  {
   "cell_type": "code",
   "execution_count": null,
   "metadata": {},
   "outputs": [],
   "source": []
  },
  {
   "cell_type": "markdown",
   "metadata": {},
   "source": [
    "## Problema 3 (Revisão de álgebra linear):\n",
    "\n",
    "Escreva as afirmações abaixo na linguagem de matrizes. Exemplo: A afirmação \"Toda coluna de $C$ é uma combinação linear das colunas de $B$ pode ser escrita em linguagem matricial como $C = BF$ para alguma matriz $F$. Observações: (i) Você pode supor que todas as matrizes que você utiliza têm as dimensões apropriadas; (ii) pode existir mais de uma resposta correta, basta dar qualquer uma!\n",
    "- (a) Para cada $i$, linha $i$ de $Z$ é uma combinação linear das linhas $i, \\ldots , n$ de $Y$.\n",
    "- (b) $W$ é obtida a partir da matriz $V$ permutando colunas pares e ímpares adjacentes (i.e., $1$ e $2$, $3$ e $4$, ...)\n",
    "- (c) Cada coluna de $P$ faz um ângulo agudo com cada coluna de $Q$.\n",
    "- (d) Cada coluna de $P$ faz um ângulo agudo com cada coluna correspondente de $Q$.\n",
    "- (e) As primeiras $k$ colunas de $A$ são ortogonais às demais colunas de $A$."
   ]
  },
  {
   "cell_type": "markdown",
   "metadata": {},
   "source": [
    "### Solução do problema 3:"
   ]
  },
  {
   "cell_type": "code",
   "execution_count": null,
   "metadata": {},
   "outputs": [],
   "source": []
  },
  {
   "cell_type": "markdown",
   "metadata": {},
   "source": [
    "## Problema 4 (Hiperplanos e semi-espaços):"
   ]
  },
  {
   "cell_type": "markdown",
   "metadata": {},
   "source": [
    "- (a) Deriva uma fórmula para a distância entre dois hiperplanos paralelos $\\{x \\in {\\mathbb R}^n : a^T x = b_1\\}$ e $\\{x \\in {\\mathbb R}^n : a^T x = b_2\\}$?\n",
    "- (b) Dê condições para que o semi-espaço $H_1 = \\{x \\in {\\mathbb R}^n : a_1^T x = b_1\\}$ esteja contido em $H_2 = \\{x \\in {\\mathbb R}^n : a_2^T x = b_2\\}$, justificando sua resposta."
   ]
  },
  {
   "cell_type": "markdown",
   "metadata": {},
   "source": [
    "### Solução do problema 4:\n"
   ]
  },
  {
   "cell_type": "markdown",
   "metadata": {},
   "source": []
  },
  {
   "cell_type": "markdown",
   "metadata": {},
   "source": [
    "## Problema 5 (Poliédros): \n",
    "\n",
    "Quais dos conjuntos $S$ definidos abaixo são poliédros? Se possível, escreva $S$ na forma $S = \\{x : Ax \\leq b, Cx = d\\}$.\n",
    "- (a) $S = \\{y_1 a_1 + y_2 a_2 : -1 \\leq y_1 \\leq 1, -1 \\leq y_2 \\leq 1 \\}$, sendo $a_1, a_2$ vetores linearmente independentes em ${\\mathbb R}^n$.\n",
    "- (b) $S = \\{x \\in {\\mathbb R}^n : x \\geq 0, {\\mathbb 1}^T x = 1, \\sum_{i=1}^n x_i a_i = b_1, \\sum_{i=1}^n x_i a_i^2 = b_2\\}$, sendo $a_1, \\ldots , a_n \\in {\\mathbb R}$ e $b_1,b_2 \\in {\\mathbb R}$.\n",
    "- (c) $S = \\{x \\in {\\mathbb R}^n : x \\geq 0,x^T y \\leq 1,~\\text{para todo}~y~\\text{tal que}~\\|y\\|_2 = 1 \\}$.\n",
    "- (d) $S = \\{x \\in {\\mathbb R}^n : x \\geq 0,x^T y \\leq 1,~\\text{para todo}~y~\\text{tal que}~\\|y\\|_1 = 1 \\}$."
   ]
  },
  {
   "cell_type": "markdown",
   "metadata": {},
   "source": [
    "### Solução do problem 5:\n",
    "\n",
    "\n"
   ]
  },
  {
   "cell_type": "code",
   "execution_count": null,
   "metadata": {},
   "outputs": [],
   "source": []
  },
  {
   "cell_type": "markdown",
   "metadata": {
    "collapsed": true
   },
   "source": [
    "## Problema 6 (Centro de Chebyshev)\n",
    "Encontre o centro e o raio do maior círculo que possa ser inscrito no poliédro descrito pelas inequações $Ax \\leq b$, sendo $x \\in {\\mathbb R}^2$, $A = \\begin{bmatrix} -0.26 & 0.97\\\\0.42 & -0.91\\\\0.91 & 0.42\\\\-0.82 & - 0.57\\end{bmatrix}$ e $b = \\begin{bmatrix} 5.0\\\\1.0\\\\8.0\\\\-1.5\\end{bmatrix}$. O que acontece (à solução encontrada pelo JuMP) se acresecentar a inequação $[1 \\quad 0] \\leq -3$ às quatro inequações já especificadas (i.e., $Ax\\leq b$)? Explique sua resposta."
   ]
  },
  {
   "cell_type": "markdown",
   "metadata": {},
   "source": [
    "### Solução do problem 6:"
   ]
  },
  {
   "cell_type": "code",
   "execution_count": null,
   "metadata": {},
   "outputs": [],
   "source": []
  },
  {
   "cell_type": "markdown",
   "metadata": {},
   "source": [
    "## Problema 7 (Geometria de LP)\n",
    "\n",
    "- (a) Determine se $\\bar{x} = (1,1,1,1)$ é vértice do poliédro $P$ definido pelas desigualdades lineares:\n",
    "$$\n",
    "\\begin{bmatrix} -1 & -6 & 1 & 3\\\\-1 & -2 & 7 & 1\\\\0 & 3 & -10 & -1\\\\-6 & -11 & -2 & 12\\\\1 & 6 & -1 & -3\\end{bmatrix} \\begin{bmatrix} x_1 \\\\ x_2 \\\\ x_3 \\\\ x_4 \\end{bmatrix} \\leq \\begin{bmatrix} -3 \\\\ 5 \\\\ -8 \\\\ -7 \\\\ 4 \\end{bmatrix}\n",
    "$$\n",
    "- Se sim, determine um vetor $c$ tal que $\\bar{x}$ seja o minmizador único de $c^T x$ sobre $P$.\n",
    "- (b) mesma pergunta para o poliédro definido pelas desigualdades\n",
    "$$\n",
    "\\begin{bmatrix} 0 & -5 & -2 & -5\\\\-7 & -7 & -2 & -2\\\\-4 & -4 & -7 & -7\\\\-8 & -3 & -3 & -4\\\\-4 & -4 & 2 & -2\\end{bmatrix} \\begin{bmatrix} x_1 \\\\ x_2 \\\\ x_3 \\\\ x_4 \\end{bmatrix} \\leq \\begin{bmatrix} -12 \\\\ -17 \\\\ -22 \\\\ -18 \\\\ -8 \\end{bmatrix}\n",
    "$$\n",
    "e, adicionalmente, a igualdade $8x_1 - 7x_2 - 10x_3 -11x_4 = -20$."
   ]
  },
  {
   "cell_type": "markdown",
   "metadata": {},
   "source": [
    "### Solução do problem 7:"
   ]
  },
  {
   "cell_type": "code",
   "execution_count": null,
   "metadata": {},
   "outputs": [],
   "source": []
  },
  {
   "cell_type": "markdown",
   "metadata": {},
   "source": [
    "## Problema 8 (Grid elétrico com armazenamento de energia)\n",
    "\n",
    "A cidade Varre-Sai compra sua energia elétrica da utilidade Ampla que cobre por hora. Se for utilizado menos de 50MWh durante uma determinada hora do dia,  o custo é 100 reais por MWh. Qualquer excedente (além de 50 MWh) durante esta hora custa 400 reais por MWh. A energia máxima que Ampla pode fornecer (em qualquer intervalo de uma hora) é 75 MWh. As tabelas abaixo mostram a demanda diária média hora a hora para a cidade Varre-Sai durante o mes de janeiro.\n",
    "\n",
    "| Hora do dia (manhã) | 01 | 02 | 03 | 04 | 05 | 06 | 07 | 08 | 09 | 10| 11| 12|\n",
    "|:-------------------:|:-:|:-:|:-:|:-:|:-:|:-:|:-:|:-:|:-:|:-:|:-:|:-:|\n",
    "| Demanda (MWh)       | 43| 40| 36| 36| 35| 38| 41| 46| 49| 48| 47| 47|\n",
    "\n",
    "| Hora do dia ( tarde )| 13| 14| 15| 16| 17| 18| 19| 20| 21| 22| 23| 24|\n",
    "|:-------------------:|:-:|:-:|:-:|:-:|:-:|:-:|:-:|:-:|:-:|:-:|:-:|:-:|\n",
    "| Demanda (MWh)       | 48| 46| 45| 47| 50| 63| 75| 75| 72| 66| 57| 50|\n",
    "\n",
    "O prefeito de Varre-Sai está preocupado com o gasto alto na parte da tarde e o risco de blecautes por volta de 19h por conta da demanda média alta (perigosamente) próxima ao limite de 75 MWh estipulado pela Ampla.\n",
    "\n",
    "Para contornar estes problemas potenciais, o prefeito comprou uma bateria grande com capacidade de armazenamento de 30 MWh. A ideia seria comprar mais energia (do que a demanda na primeira parte do dia, quando energia custa menos), armazenar na bateria e utilizar nos horários de pico mais tarde, quando tanto a demanda como o preço atingem valores altos.\n",
    "1. Quanto dinheiro a cidade de Varre-Sai poderia economizar graças a bateria? Suponha que a bateria começa o dia completamente descarregada, e que, para maior segurança em relação aos  blecautes, limita-se a 65 MWh a quantidade de eletricidade comprada por hora.\n",
    "2. Quanto dinheiro seria economizado se a bateria tivesse capacidade infinita?\n",
    "3. Plote um gráfico que mostra:\n",
    "     1. a demanda de energia típica (da tabela) versus a hora do dia.\n",
    "     2. a eletricidade comprada utilizando a estratégia encontrada no item 1 versus a hora do dia (plote ambos os gráficos nos mesmos eixos)."
   ]
  },
  {
   "cell_type": "markdown",
   "metadata": {},
   "source": [
    "### Solução do problem 8:"
   ]
  },
  {
   "cell_type": "code",
   "execution_count": null,
   "metadata": {},
   "outputs": [],
   "source": []
  },
  {
   "cell_type": "markdown",
   "metadata": {},
   "source": [
    "## Problema 9 (Construção de um estádio esportivo [sob regime de anti-propina!])\n",
    "Uma cidade pequena deseja construir um estádio (também pequeno). Após licitação, uma empreiteira ganha o contrato e deseja cumprir a tarefa no menor tempo possível. Todas as grandes tarefas estão listadas na tabela abaixo. Algumas podem ser iniciadas apenas quando as tarefas predecessoras tiverem sido concluídas e esta dependência está registrada na quarta coluna.\n",
    "\n",
    "|Tarefa | Descrição | Duração (em semanas)| Tarefas predecessoras | Redução máxima (em semanas)| Custo da redução (R\\$1k/semana) |\n",
    "|:---:|:----------:|:------------------:|:------------:|:---------------------------:|:---------------------------:|\n",
    "|1 |Instalação no local de construção |2 | não há | 0 | -- |\n",
    "| 2| Terraplenagem | 16 | 1 | 3 | 30 |\n",
    "|3 |Construção da fundação | 9 | 2 | 1 | 26 |\n",
    "| 4 |Ruas de acesso e outras redes | 8 | 2 | 2 | 12 |\n",
    "| 5 | Construir o porão | 10 | 3 | 2 | 17 |\n",
    "| 6 | Piso principal | 6 | 4,5 | 1 | 15 |\n",
    "| 7 | Divisão do vestiário | 2 | 4 | 1 | 8 |\n",
    "| 8 | Instalação elétrica nas arquibancadas | 2 | 6 | 0 | -- |\n",
    "|9  | Construção da cobertura | 9 | 4,6 | 2 | 42 |\n",
    "|10 | Iluminação do estádio | 5 | 4 | 1 | 21 |\n",
    "| 11 | Instalações nas arquibancadas | 3 | 6 | 1 |18 |\n",
    "| 12 | Impermeabilização da cobertura | 2 | 9 | 0 | -- |\n",
    "| 13 | Acabamento do vestiário | 1 | 7 | 0 | -- |\n",
    "| 14 | Construção da bilheteria | 7 | 2 | 2 | 22 |\n",
    "| 15 | Ruas de acesso secundárias | 4 | 4,14 | 2 | 12 |\n",
    "|16  | Placar e altofalantes |3 | 8,11,14 | 1 | 6 |\n",
    "|17 | Gramado e acessórios para esportes | 9 | 12 | 3 | 16 |\n",
    "|18 | Entrega do estádio | 1 | 17 | 0 | -- |\n",
    "\n",
    "As perguntas que a empreiteira quer que sejam respondidas são as seguintes:\n",
    "1. Qual a data mais cedo para o término da construção? Note que as últimas duas colunas não são  relevantes para este item. \n",
    "2. Para algumas tarefas a empreiteira pode contratar operários extra e alugar mais equipamento para reduzir o tempo total. As últimas duas colunas mostram o número máximo de semanas poupadas por tarefa e o custo adicional associado por semana, por conta do trabalho extra. Plote um gráfico de compromisso (\"tradeoff\") mostrando o custo extra em função do número de semanas poupadas.\n",
    "3. A prefeitura da cidade gostaria que a obra fosse terminada antes da data combinada e anunciada (resposta do item  1). Como incentivo, a prefeitura propõe pagar um bônus de R\\$30k por cada semana de antecipação da data de término da obra. Quando terminará o projeto se a empreiteira deseja maximizar seu lucro?"
   ]
  },
  {
   "cell_type": "markdown",
   "metadata": {},
   "source": [
    "### Solução do problem 9:"
   ]
  },
  {
   "cell_type": "code",
   "execution_count": null,
   "metadata": {},
   "outputs": [],
   "source": []
  },
  {
   "cell_type": "markdown",
   "metadata": {},
   "source": [
    "## Problema 10: (Clássico: dieta ótima)"
   ]
  },
  {
   "cell_type": "markdown",
   "metadata": {},
   "source": [
    "Suponha que uma certa dieta alimentar esteja baseada nos alimentos (em parêntesis vemos as unidades utilizadas): \n",
    "leite desnatado (litro) , carne magra de boi (Kg), carne de frango (kg) e batata doce (100 g). \n",
    "Sabendo-se que os requisitos nutricionais serão expressos em termos de vitaminas A,C, e D e controlados por \n",
    "suas quantidades mínimas (em miligramas), uma vez que são indispensáveis à preservação da saúde da pessoa \n",
    "que estará se submetendo a dieta. A Tabela abaixo resume a quantidade de cada vitamina em disponibilidade \n",
    "**em cada unidade considerada dos alimentos**, sua necessidade diária para a boa saúde de uma pessoa e o custo \n",
    "(em reais) de cada unidade do alimento considerado. Modele e resolva o problema de forma a minimizar os gastos com a \n",
    "compra dos alimentos, obedecendo às quantidades mínimas recomendadas em relação às vitaminas.\n",
    "\n",
    "Tabela: Dados do problema da dieta\n",
    "\n",
    "|Alim.$\\rightarrow$|leite | carne |frango | batata | Qtd. Mín. |\n",
    "|------------------|------|-------|-------|--------|-----------|\n",
    "|Vit.$\\downarrow$ |  \n",
    "|A |2 |2 |5 |4 |11 |\n",
    "|C |50 | 20 | 10 | 45| 70 |\n",
    "|D |80 |70 |10 |60 |250|\n",
    "| |\n",
    "|Custo $\\rightarrow$ |5 |40 |20 |2 |\n",
    "\n",
    "\n"
   ]
  },
  {
   "cell_type": "markdown",
   "metadata": {},
   "source": [
    "### Solução do problem 10:"
   ]
  }
 ],
 "metadata": {
  "@webio": {
   "lastCommId": null,
   "lastKernelId": null
  },
  "anaconda-cloud": {},
  "kernelspec": {
   "display_name": "Julia 1.9.2",
   "language": "julia",
   "name": "julia-1.9"
  },
  "language_info": {
   "file_extension": ".jl",
   "mimetype": "application/julia",
   "name": "julia",
   "version": "1.9.2"
  }
 },
 "nbformat": 4,
 "nbformat_minor": 2
}
