{
 "cells": [
  {
   "cell_type": "markdown",
   "metadata": {},
   "source": [
    "<h1 style=\"text-align:center;\">Introdução à Otimização &ndash; Professor Amit Bhaya &ndash; 2023/2</h1>\n",
    "<h2 style=\"text-align:center;\">Lista 1</h2>\n",
    "<h2 style=\"text-align:center;\">Aluno: Thiago Moutinho</h2>\n",
    "<h2 style=\"text-align:center;\">Entrega: 04 de setembro de 2023"
   ]
  },
  {
   "cell_type": "code",
   "execution_count": 107,
   "metadata": {},
   "outputs": [
    {
     "name": "stdout",
     "output_type": "stream",
     "text": [
      "  0.000126 seconds (140 allocations: 13.102 KiB)\n",
      "  0.000113 seconds (140 allocations: 13.102 KiB)\n",
      "  0.000110 seconds (140 allocations: 13.102 KiB)\n",
      "  0.000151 seconds (217 allocations: 23.727 KiB)\n"
     ]
    }
   ],
   "source": [
    "@time using Clp\n",
    "@time using JuMP\n",
    "@time using PyPlot\n",
    "@time using LinearAlgebra"
   ]
  },
  {
   "cell_type": "code",
   "execution_count": 108,
   "metadata": {},
   "outputs": [
    {
     "name": "stdout",
     "output_type": "stream",
     "text": [
      "Julia Version 1.9.2\n",
      "Commit e4ee485e909 (2023-07-05 09:39 UTC)\n",
      "Platform Info:\n",
      "  OS: Linux (x86_64-linux-gnu)\n",
      "  CPU: 8 × Intel(R) Core(TM) i7-1065G7 CPU @ 1.30GHz\n",
      "  WORD_SIZE: 64\n",
      "  LIBM: libopenlibm\n",
      "  LLVM: libLLVM-14.0.6 (ORCJIT, icelake-client)\n",
      "  Threads: 2 on 8 virtual cores\n"
     ]
    }
   ],
   "source": [
    "versioninfo()"
   ]
  },
  {
   "cell_type": "markdown",
   "metadata": {},
   "source": [
    "## Problema 1: \n",
    "\n",
    "Considere o problema de otimização abaixo:\n",
    "\n",
    "\\begin{align}\n",
    "& \\text{maximize}_{u,v,w} \\quad -u + v - w \\\\\n",
    "& \\text{sujeito a} \\quad -5u + 5v + 3w \\leq 10 \\\\\n",
    "& \\qquad 5u - 5v - 3w \\leq 10 \\\\\n",
    "& \\qquad -2u + 2v - w \\leq -1 \\\\\n",
    "& \\qquad \\qquad w \\leq 3 \\\\\n",
    "& \\qquad u,v,w \\geq 0\n",
    "\\end{align}\n",
    " - Resolva o programa linear (PL), utilizando JuMP/Julia.\n",
    " - Transforme o PL abaixo à forma padrão $\\max {c}^\\top {x}$, sujeito a ${Ax}\\leq {b}, {x}\\geq 0$. Resolva de novo em JuMP, utilizando a forma padrão matricial. Compare as duas soluções obtidas."
   ]
  },
  {
   "cell_type": "markdown",
   "metadata": {},
   "source": [
    "### Solução do problem 1:"
   ]
  },
  {
   "cell_type": "markdown",
   "metadata": {},
   "source": [
    "Primeiro item:"
   ]
  },
  {
   "cell_type": "code",
   "execution_count": 109,
   "metadata": {},
   "outputs": [
    {
     "data": {
      "text/latex": [
       "$$ \\begin{aligned}\n",
       "\\max\\quad & -u + v - w\\\\\n",
       "\\text{Subject to} \\quad & w \\leq 3\\\\\n",
       " & -5 u + 3 w + 5 v \\leq 10\\\\\n",
       " & 5 u - 3 w - 5 v \\leq 10\\\\\n",
       " & -2 u - w + 2 v \\leq -1\\\\\n",
       " & u \\geq 0\\\\\n",
       " & w \\geq 0\\\\\n",
       " & v \\geq 0\\\\\n",
       "\\end{aligned} $$"
      ]
     },
     "metadata": {},
     "output_type": "display_data"
    },
    {
     "name": "stdout",
     "output_type": "stream",
     "text": [
      "u = 1.00000000005e10\n",
      "v = 1.0e10\n",
      "w = 0.0\n",
      "objective = -0.5\n",
      "Coin0506I Presolve 3 (-1) rows, 3 (0) columns and 9 (-1) elements\n",
      "Clp0006I 0  Obj -0 Primal inf 0.499999 (1) Dual inf 0.999999 (1)\n",
      "Clp0006I 1  Obj -0.5\n",
      "Clp0000I Optimal - objective value -0.5\n",
      "Coin0511I After Postsolve, objective -0.5, infeasibilities - dual 0 (0), primal 0 (0)\n",
      "Clp0032I Optimal objective -0.5 - 1 iterations time 0.002, Presolve 0.00\n"
     ]
    }
   ],
   "source": [
    "m = Model(Clp.Optimizer)\n",
    "@variable(m, u >=0)\n",
    "@variable(m, w >=0)\n",
    "@variable(m, v >=0)\n",
    "@constraint(m, w<=3)\n",
    "@constraint(m, -5u +5v +3w <=10)\n",
    "@constraint(m, +5u -5v -3w <=10)\n",
    "@constraint(m, -2u +2v -w <=-1)\n",
    "@objective(m, Max,-u +v -w)\n",
    "print(m)\n",
    "optimize!(m)\n",
    "\n",
    "println(\"u = \", JuMP.value.(u) )\n",
    "println(\"v = \", JuMP.value.(v) )\n",
    "println(\"w = \", JuMP.value.(w) )\n",
    "println(\"objective = \", JuMP.objective_value(m) )\n",
    "\n",
    "\n"
   ]
  },
  {
   "cell_type": "markdown",
   "metadata": {},
   "source": [
    "Segundo Item:"
   ]
  },
  {
   "cell_type": "code",
   "execution_count": 110,
   "metadata": {},
   "outputs": [
    {
     "data": {
      "text/latex": [
       "$$ \\begin{aligned}\n",
       "\\max\\quad & -x_{1} + x_{2} - x_{3}\\\\\n",
       "\\text{Subject to} \\quad & x_{3} \\leq 3\\\\\n",
       " & -5 x_{1} + 3 x_{2} + 5 x_{3} \\leq 10\\\\\n",
       " & 5 x_{1} - 3 x_{2} - 5 x_{3} \\leq 10\\\\\n",
       " & -2 x_{1} - x_{2} + 2 x_{3} \\leq -1\\\\\n",
       " & x_{1} \\geq 0\\\\\n",
       " & x_{2} \\geq 0\\\\\n",
       " & x_{3} \\geq 0\\\\\n",
       "\\end{aligned} $$"
      ]
     },
     "metadata": {},
     "output_type": "display_data"
    },
    {
     "name": "stdout",
     "output_type": "stream",
     "text": [
      "x = [1.0, 1.6666666666666665, 0.0]\n",
      "objective = 0.6666666666666665\n",
      "Coin0506I Presolve 3 (-1) rows, 3 (0) columns and 9 (-1) elements\n",
      "Clp0006I 0  Obj -0 Primal inf 2.499998 (2) Dual inf 1.6666657 (1)\n",
      "Clp0006I 1  Obj 6.6666667e+09\n",
      "Clp0006I 1  Obj 3.3333333e+10\n",
      "Clp0002I Dual infeasible - objective value 3.3333333e+10\n",
      "Coin0505I Presolved problem not optimal, resolve after postsolve\n",
      "Coin0511I After Postsolve, objective 0, infeasibilities - dual 0.1999999 (1), primal 0.9999999 (1)\n",
      "Clp0006I 0  Obj 0 Primal inf 0.4999999 (1) Dual inf 1.8433331 (2)\n",
      "Clp0029I End of values pass after 1 iterations\n",
      "Clp0006I 1  Obj 0\n",
      "Clp0000I Optimal - objective value 0\n",
      "Clp0006I 0  Obj -0.5 Dual inf 2.4999999 (1)\n",
      "Clp0006I 2  Obj 3.3333333 Dual inf 0.66666657 (1)\n",
      "Clp0006I 2  Obj 3.3333333 Dual inf 0.66666657 (1)\n",
      "Clp0002I Dual infeasible - objective value 3.3333333\n",
      "Clp0032I DualInfeasible objective 3.333333333 - 3 iterations time 0.002, Presolve 0.00\n"
     ]
    }
   ],
   "source": [
    "#x = [u; v; w]\n",
    "c = [-1; 1; -1]\n",
    "A = [0 0 1; -5 3 5; 5 -3 -5; -2 -1 2]\n",
    "b = [3; 10; 10; -1]\n",
    "\n",
    "\n",
    "m = Model(Clp.Optimizer)\n",
    "@variable(m, x[1:3] >=0)\n",
    "@constraint(m, A*x .<= b)\n",
    "@objective(m, Max, dot(c,x))\n",
    "\n",
    "print(m)\n",
    "optimize!(m)\n",
    "\n",
    "println(\"x = \", JuMP.value.(x) )\n",
    "println(\"objective = \", JuMP.objective_value(m))"
   ]
  },
  {
   "cell_type": "markdown",
   "metadata": {},
   "source": [
    "## Problema 2: \n",
    "\n",
    "Considere o LP\n",
    "\\begin{align}\n",
    "& \\text{minimize}\\quad c_1 x_1 + c_2 x_2 + c_3 x_3 \\\\\n",
    "& \\text{sujeito a}\\quad x_1 + x_2 \\geq 1 \\\\\n",
    "& \\qquad x_1 + 2x_2 \\leq 3 \\\\\n",
    "& \\qquad x_1,x_2,x_3 \\geq 0\n",
    "\\end{align}\n",
    "Dê o valor ótimo e o conjunto ótimo para os seguintes valores de $c$: $c=(-1,0,1),c=(0,1,0),c=(0,0,-1)$."
   ]
  },
  {
   "cell_type": "markdown",
   "metadata": {},
   "source": [
    "### Solução do problema 2:"
   ]
  },
  {
   "cell_type": "markdown",
   "metadata": {},
   "source": [
    "Para c = (-1,0,1):"
   ]
  },
  {
   "cell_type": "code",
   "execution_count": 111,
   "metadata": {},
   "outputs": [
    {
     "data": {
      "text/latex": [
       "$$ \\begin{aligned}\n",
       "\\min\\quad & -x_{1} + x_{3}\\\\\n",
       "\\text{Subject to} \\quad & x_{1} + x_{2} \\geq 1\\\\\n",
       " & x_{1} + 2 x_{2} \\geq 3\\\\\n",
       " & x_{1} \\geq 0\\\\\n",
       " & x_{2} \\geq 0\\\\\n",
       " & x_{3} \\geq 0\\\\\n",
       "\\end{aligned} $$"
      ]
     },
     "metadata": {},
     "output_type": "display_data"
    },
    {
     "name": "stdout",
     "output_type": "stream",
     "text": [
      "x = [1.0e10, 0.0, 0.0]\n",
      "objective = -1.0e10\n",
      "Coin0508I Presolve thinks problem is unbounded\n",
      "Clp3003W Analysis indicates model infeasible or unbounded\n",
      "Clp0006I 0  Obj 0 Primal inf 3.9999998 (2) Dual inf 0.9999999 (1)\n",
      "Clp0002I Dual infeasible - objective value -1e+10\n",
      "Clp0032I DualInfeasible objective -1e+10 - 0 iterations time 0.002\n"
     ]
    }
   ],
   "source": [
    "c = [-1;0;1]\n",
    "A = [1 1 0; 1 2 0]\n",
    "B = [1;3]\n",
    "\n",
    "m = Model(Clp.Optimizer)\n",
    "@variable(m, x[1:3] >=0)\n",
    "@constraint(m, A*x .>= B)\n",
    "@objective(m, Min, dot(c,x))\n",
    "\n",
    "print(m)\n",
    "optimize!(m)\n",
    "\n",
    "println(\"x = \", JuMP.value.(x) )\n",
    "println(\"objective = \", JuMP.objective_value(m))"
   ]
  },
  {
   "cell_type": "markdown",
   "metadata": {},
   "source": [
    "Para c = (0, 1, 0)"
   ]
  },
  {
   "cell_type": "code",
   "execution_count": 112,
   "metadata": {},
   "outputs": [
    {
     "data": {
      "text/latex": [
       "$$ \\begin{aligned}\n",
       "\\min\\quad & x_{2}\\\\\n",
       "\\text{Subject to} \\quad & x_{1} + x_{2} \\geq 1\\\\\n",
       " & x_{1} + 2 x_{2} \\geq 3\\\\\n",
       " & x_{1} \\geq 0\\\\\n",
       " & x_{2} \\geq 0\\\\\n",
       " & x_{3} \\geq 0\\\\\n",
       "\\end{aligned} $$"
      ]
     },
     "metadata": {},
     "output_type": "display_data"
    },
    {
     "name": "stdout",
     "output_type": "stream",
     "text": [
      "x = [3.0, 0.0, 0.0]\n",
      "objective = 0.0\n",
      "Coin0506I Presolve 0 (-2) rows, 0 (-3) columns and 0 (-4) elements\n",
      "Clp3002W Empty problem - 0 rows, 0 columns and 0 elements\n",
      "Clp0000I Optimal - objective value 0\n",
      "Coin0511I After Postsolve, objective 0, infeasibilities - dual 0 (0), primal 0 (0)\n",
      "Clp0032I Optimal objective 0 - 0 iterations time 0.002, Presolve 0.00\n"
     ]
    }
   ],
   "source": [
    "c = [0;1;0]\n",
    "A = [1 1 0; 1 2 0]\n",
    "B = [1;3]\n",
    "\n",
    "m = Model(Clp.Optimizer)\n",
    "@variable(m, x[1:3] >=0)\n",
    "@constraint(m, A*x .>= B)\n",
    "@objective(m, Min, dot(c,x))\n",
    "\n",
    "print(m)\n",
    "optimize!(m)\n",
    "\n",
    "println(\"x = \", JuMP.value.(x) )\n",
    "println(\"objective = \", JuMP.objective_value(m))"
   ]
  },
  {
   "cell_type": "markdown",
   "metadata": {},
   "source": [
    "## Problema 3 (Revisão de álgebra linear):\n",
    "\n",
    "Escreva as afirmações abaixo na linguagem de matrizes. Exemplo: A afirmação \"Toda coluna de $C$ é uma combinação linear das colunas de $B$ pode ser escrita em linguagem matricial como $C = BF$ para alguma matriz $F$. Observações: (i) Você pode supor que todas as matrizes que você utiliza têm as dimensões apropriadas; (ii) pode existir mais de uma resposta correta, basta dar qualquer uma!\n",
    "- (a) Para cada $i$, linha $i$ de $Z$ é uma combinação linear das linhas $i, \\ldots , n$ de $Y$.\n",
    "- (b) $W$ é obtida a partir da matriz $V$ permutando colunas pares e ímpares adjacentes (i.e., $1$ e $2$, $3$ e $4$, ...)\n",
    "- (c) Cada coluna de $P$ faz um ângulo agudo com cada coluna de $Q$.\n",
    "- (d) Cada coluna de $P$ faz um ângulo agudo com cada coluna correspondente de $Q$.\n",
    "- (e) As primeiras $k$ colunas de $A$ são ortogonais às demais colunas de $A$."
   ]
  },
  {
   "cell_type": "markdown",
   "metadata": {},
   "source": [
    "### Solução do problema 3:"
   ]
  },
  {
   "cell_type": "markdown",
   "metadata": {},
   "source": [
    "a:"
   ]
  },
  {
   "cell_type": "code",
   "execution_count": 113,
   "metadata": {},
   "outputs": [
    {
     "name": "stdout",
     "output_type": "stream",
     "text": [
      "Z = [83 180 151; 68 223 269; 31 98 155]\n"
     ]
    }
   ],
   "source": [
    "W = [5 7 2; 1 12 19; 2 3 7]\n",
    "Y = [15 6 1; 10 12 3; 2 5 8]\n",
    "\n",
    "Z = Y * W\n",
    "\n",
    "println(\"Z = \", Z)"
   ]
  },
  {
   "cell_type": "markdown",
   "metadata": {},
   "source": [
    "b:"
   ]
  },
  {
   "cell_type": "code",
   "execution_count": 114,
   "metadata": {},
   "outputs": [
    {
     "name": "stdout",
     "output_type": "stream",
     "text": [
      "W = [2 1 4 3; 6 5 8 7; 10 9 12 11; 14 13 16 15]\n"
     ]
    }
   ],
   "source": [
    "V = [1 2 3 4; 5 6 7 8; 9 10 11 12; 13 14 15 16]\n",
    "permutação = [0 1 0 0; 1 0 0 0; 0 0 0 1; 0 0 1 0]\n",
    "\n",
    "W = V * permutação\n",
    "\n",
    "println(\"W = \", W)"
   ]
  },
  {
   "cell_type": "markdown",
   "metadata": {},
   "source": [
    "c:"
   ]
  },
  {
   "cell_type": "code",
   "execution_count": 115,
   "metadata": {},
   "outputs": [
    {
     "name": "stdout",
     "output_type": "stream",
     "text": [
      "[46 52; 67 76]\n"
     ]
    }
   ],
   "source": [
    "#Se o produto escalar entre as colunas de P e Q for positivo é garantido que o angulo é agudo\n",
    "\n",
    "P = [1 2; 2 3; 3 4]  \n",
    "Q = [5 6; 7 8; 9 10]\n",
    "\n",
    "produto_escalar = transpose(P) * Q\n",
    "\n",
    "println(produto_escalar)\n"
   ]
  },
  {
   "cell_type": "markdown",
   "metadata": {},
   "source": [
    "D:"
   ]
  },
  {
   "cell_type": "code",
   "execution_count": 116,
   "metadata": {},
   "outputs": [
    {
     "name": "stdout",
     "output_type": "stream",
     "text": [
      "[46 76]\n"
     ]
    }
   ],
   "source": [
    "\n",
    "P = [1 2; 2 3; 3 4] \n",
    "Q = [5 6; 7 8; 9 10] \n",
    "\n",
    "\n",
    "produto_escalar_correspondente = sum(P .* Q, dims=1)\n",
    "\n",
    "println(produto_escalar_correspondente)"
   ]
  },
  {
   "cell_type": "markdown",
   "metadata": {},
   "source": [
    "E:"
   ]
  },
  {
   "cell_type": "code",
   "execution_count": 117,
   "metadata": {},
   "outputs": [
    {
     "name": "stdout",
     "output_type": "stream",
     "text": [
      "[1 0 1; -2 0 -2]\n",
      "[3, 1, -3]\n",
      "[0, 0]\n",
      "As primeiras 2 colunas de A são ortogonais às demais colunas de A.\n"
     ]
    }
   ],
   "source": [
    "#Para ser ortogonal o produto escalar é = 0\n",
    "\n",
    "A = [1 -2 3; 0 0 1; 1 -2 -3]\n",
    "k = 2 # pode ser outro valor\n",
    "primeiras_k_colunas = A[:, 1:k]\n",
    "colunas_restantes = A[:, k+1]\n",
    "\n",
    "println(transpose(primeiras_k_colunas))\n",
    "println(colunas_restantes)\n",
    "\n",
    "produto_escalar_ortogonalidade = transpose(primeiras_k_colunas) * colunas_restantes\n",
    "\n",
    "println(produto_escalar_ortogonalidade)\n",
    "\n",
    "if all(produto_escalar_ortogonalidade .== 0)\n",
    "    println(\"As primeiras $k colunas de A são ortogonais às demais colunas de A.\")\n",
    "else\n",
    "    println(\"As primeiras $k colunas de A não são ortogonais às demais colunas de A.\")\n",
    "end"
   ]
  },
  {
   "cell_type": "markdown",
   "metadata": {},
   "source": [
    "## Problema 4 (Hiperplanos e semi-espaços):"
   ]
  },
  {
   "cell_type": "markdown",
   "metadata": {},
   "source": [
    "- (a) Deriva uma fórmula para a distância entre dois hiperplanos paralelos $\\{x \\in {\\mathbb R}^n : a^T x = b_1\\}$ e $\\{x \\in {\\mathbb R}^n : a^T x = b_2\\}$?\n",
    "- (b) Dê condições para que o semi-espaço $H_1 = \\{x \\in {\\mathbb R}^n : a_1^T x = b_1\\}$ esteja contido em $H_2 = \\{x \\in {\\mathbb R}^n : a_2^T x = b_2\\}$, justificando sua resposta."
   ]
  },
  {
   "cell_type": "markdown",
   "metadata": {},
   "source": [
    "### Solução do problema 4:\n"
   ]
  },
  {
   "cell_type": "markdown",
   "metadata": {},
   "source": [
    "a:"
   ]
  },
  {
   "cell_type": "code",
   "execution_count": 118,
   "metadata": {},
   "outputs": [
    {
     "name": "stdout",
     "output_type": "stream",
     "text": [
      "11.789826122551595\n",
      "A distância entre os hiperplanos é: 0.2544566789039913\n"
     ]
    }
   ],
   "source": [
    "#a formula para a distancia desses 2 hiperplanos é |b2-b1| / ||a||\n",
    "\n",
    "a = [9; 7; 3]\n",
    "b1 = 3\n",
    "b2 = 6\n",
    "\n",
    "norma_a = norm(a)\n",
    "\n",
    "println(norma_a)\n",
    "\n",
    "distancia = abs(b1 - b2) / norma_a\n",
    "\n",
    "println(\"A distância entre os hiperplanos é: \", distancia)"
   ]
  },
  {
   "cell_type": "markdown",
   "metadata": {},
   "source": [
    "b:"
   ]
  },
  {
   "cell_type": "code",
   "execution_count": 119,
   "metadata": {},
   "outputs": [
    {
     "name": "stdout",
     "output_type": "stream",
     "text": [
      "53\n"
     ]
    }
   ],
   "source": [
    "#para que esteja contido a1 e a2 devem apontar na mesma direção, logo o produto escalar é positivo ( angulo agudo)\n",
    "\n",
    "a1 = [3, 4, 5]\n",
    "a2 = [1, 5, 6]\n",
    "\n",
    "b1 = 3\n",
    "b2 = 9\n",
    "\n",
    "produto_escalar = transpose(a1) * a2\n",
    "println(produto_escalar)\n"
   ]
  },
  {
   "cell_type": "markdown",
   "metadata": {},
   "source": [
    "## Problema 5 (Poliédros): \n",
    "\n",
    "Quais dos conjuntos $S$ definidos abaixo são poliédros? Se possível, escreva $S$ na forma $S = \\{x : Ax \\leq b, Cx = d\\}$.\n",
    "- (a) $S = \\{y_1 a_1 + y_2 a_2 : -1 \\leq y_1 \\leq 1, -1 \\leq y_2 \\leq 1 \\}$, sendo $a_1, a_2$ vetores linearmente independentes em ${\\mathbb R}^n$.\n",
    "- (b) $S = \\{x \\in {\\mathbb R}^n : x \\geq 0, {\\mathbb 1}^T x = 1, \\sum_{i=1}^n x_i a_i = b_1, \\sum_{i=1}^n x_i a_i^2 = b_2\\}$, sendo $a_1, \\ldots , a_n \\in {\\mathbb R}$ e $b_1,b_2 \\in {\\mathbb R}$.\n",
    "- (c) $S = \\{x \\in {\\mathbb R}^n : x \\geq 0,x^T y \\leq 1,~\\text{para todo}~y~\\text{tal que}~\\|y\\|_2 = 1 \\}$.\n",
    "- (d) $S = \\{x \\in {\\mathbb R}^n : x \\geq 0,x^T y \\leq 1,~\\text{para todo}~y~\\text{tal que}~\\|y\\|_1 = 1 \\}$."
   ]
  },
  {
   "cell_type": "markdown",
   "metadata": {},
   "source": [
    "### Solução do problem 5:\n",
    "\n",
    "\n"
   ]
  },
  {
   "cell_type": "markdown",
   "metadata": {},
   "source": [
    "a) $S$ é uma combinação linear de $y_1$ e $y_2$, logo não é um poliedro e não pode ser representado nessa forma\n",
    "\n",
    "b) $S$ é um poliedro e pode ser representado na forma $S = \\left\\{x \\in \\mathbb{R}^n : \\begin{bmatrix} -I \\\\ \\mathbb{1}^T \\\\ a_1^T \\\\ a_2^T \\end{bmatrix} x \\leq \\begin{bmatrix} \\mathbf{0} \\\\ 1 \\\\ b_1 \\\\ b_2 \\end{bmatrix}, \\mathbf{0}^T x = 0\\right\\}$\n",
    "\n",
    "c) Esse conjunto não pode ser representado nesse formato, e portanto não é um poliedro\n",
    "\n",
    "d) Esse conjunto também não pode ser representado no formato de desigualdades lineares, portanto não é um poliedro"
   ]
  },
  {
   "cell_type": "markdown",
   "metadata": {
    "collapsed": true
   },
   "source": [
    "## Problema 6 (Centro de Chebyshev)\n",
    "Encontre o centro e o raio do maior círculo que possa ser inscrito no poliédro descrito pelas inequações $Ax \\leq b$, sendo $x \\in {\\mathbb R}^2$, $A = \\begin{bmatrix} -0.26 & 0.97\\\\0.42 & -0.91\\\\0.91 & 0.42\\\\-0.82 & - 0.57\\end{bmatrix}$ e $b = \\begin{bmatrix} 5.0\\\\1.0\\\\8.0\\\\-1.5\\end{bmatrix}$. O que acontece (à solução encontrada pelo JuMP) se acresecentar a inequação $[1 \\quad 0] \\leq -3$ às quatro inequações já especificadas (i.e., $Ax\\leq b$)? Explique sua resposta."
   ]
  },
  {
   "cell_type": "markdown",
   "metadata": {},
   "source": [
    "### Solução do problem 6:"
   ]
  },
  {
   "cell_type": "code",
   "execution_count": 120,
   "metadata": {},
   "outputs": [
    {
     "name": "stdout",
     "output_type": "stream",
     "text": [
      "As coordenadas são: [2.876264474644579, 3.165183244953473]\n",
      "O maior raio é: 2.666293247661685\n",
      "Coin0506I Presolve 0 (-4) rows, 0 (-3) columns and 0 (-12) elements\n",
      "Clp3002W Empty problem - 0 rows, 0 columns and 0 elements\n",
      "Clp0000I Optimal - objective value 2.6662932\n",
      "Coin0511I After Postsolve, objective 2.6662932, infeasibilities - dual 0 (0), primal 0 (0)\n",
      "Clp0032I Optimal objective 2.666293248 - 0 iterations time 0.002, Presolve 0.00\n"
     ]
    }
   ],
   "source": [
    "A = [-0.26 0.97; 0.42 -0.91; 0.91 -0.42; -0.82 -0.57]\n",
    "b = [5.0; 1.0; 8.0; -1.5]\n",
    "\n",
    "m = Model(Clp.Optimizer)\n",
    "@variable(m, r >= 0)           \n",
    "@variable(m, x[1:2]) \n",
    "for i = 1:size(A,1)\n",
    "    @constraint(m, dot(A[i,:],x) + r*norm(A[i,:]) <= b[i])\n",
    "end\n",
    "@objective(m, Max, r)\n",
    "\n",
    "optimize!(m)\n",
    "\n",
    "xc,yc = JuMP.value.(x)\n",
    "r = JuMP.objective_value(m)\n",
    "println(\"As coordenadas são: \",[xc,yc])\n",
    "println(\"O maior raio é: \", r)"
   ]
  },
  {
   "cell_type": "markdown",
   "metadata": {},
   "source": [
    "Adicionando a inequação $[1 \\quad 0] \\leq -3$"
   ]
  },
  {
   "cell_type": "code",
   "execution_count": 121,
   "metadata": {},
   "outputs": [
    {
     "name": "stdout",
     "output_type": "stream",
     "text": [
      "Coin0507I Presolve determined that the problem was infeasible with tolerance of 1e-08\n",
      "Clp3003W Analysis indicates model infeasible or unbounded\n",
      "Clp0006I 0  Obj 0 Primal inf 4.5020289 (2) Dual inf 0.9999999 (1)\n",
      "Clp0006I 3  Obj -0.57785486 Primal inf 0.57785476 (1)\n",
      "Clp0001I Primal infeasible - objective value -0.57785486\n",
      "Clp0032I PrimalInfeasible objective -0.5778548563 - 3 iterations time 0.002\n"
     ]
    },
    {
     "ename": "LoadError",
     "evalue": "Primal solution not available",
     "output_type": "error",
     "traceback": [
      "Primal solution not available",
      "",
      "Stacktrace:",
      "  [1] error(s::String)",
      "    @ Base ./error.jl:35",
      "  [2] get(model::Clp.Optimizer, attr::MathOptInterface.VariablePrimal, x::MathOptInterface.VariableIndex)",
      "    @ Clp ~/.julia/packages/Clp/gKYi8/src/MOI_wrapper/MOI_wrapper.jl:549",
      "  [3] get(model::MathOptInterface.Utilities.CachingOptimizer{Clp.Optimizer, MathOptInterface.Utilities.UniversalFallback{Clp.OptimizerCache}}, attr::MathOptInterface.VariablePrimal, index::MathOptInterface.VariableIndex)",
      "    @ MathOptInterface.Utilities ~/.julia/packages/MathOptInterface/tWT4o/src/Utilities/cachingoptimizer.jl:911",
      "  [4] get(b::MathOptInterface.Bridges.LazyBridgeOptimizer{MathOptInterface.Utilities.CachingOptimizer{Clp.Optimizer, MathOptInterface.Utilities.UniversalFallback{Clp.OptimizerCache}}}, attr::MathOptInterface.VariablePrimal, index::MathOptInterface.VariableIndex)",
      "    @ MathOptInterface.Bridges ~/.julia/packages/MathOptInterface/tWT4o/src/Bridges/bridge_optimizer.jl:1195",
      "  [5] get(model::MathOptInterface.Utilities.CachingOptimizer{MathOptInterface.Bridges.LazyBridgeOptimizer{MathOptInterface.Utilities.CachingOptimizer{Clp.Optimizer, MathOptInterface.Utilities.UniversalFallback{Clp.OptimizerCache}}}, MathOptInterface.Utilities.UniversalFallback{MathOptInterface.Utilities.Model{Float64}}}, attr::MathOptInterface.VariablePrimal, index::MathOptInterface.VariableIndex)",
      "    @ MathOptInterface.Utilities ~/.julia/packages/MathOptInterface/tWT4o/src/Utilities/cachingoptimizer.jl:911",
      "  [6] _moi_get_result(::MathOptInterface.Utilities.CachingOptimizer{MathOptInterface.Bridges.LazyBridgeOptimizer{MathOptInterface.Utilities.CachingOptimizer{Clp.Optimizer, MathOptInterface.Utilities.UniversalFallback{Clp.OptimizerCache}}}, MathOptInterface.Utilities.UniversalFallback{MathOptInterface.Utilities.Model{Float64}}}, ::MathOptInterface.VariablePrimal, ::Vararg{Any})",
      "    @ JuMP ~/.julia/packages/JuMP/KiENn/src/optimizer_interface.jl:642",
      "  [7] get(model::Model, attr::MathOptInterface.VariablePrimal, v::VariableRef)",
      "    @ JuMP ~/.julia/packages/JuMP/KiENn/src/optimizer_interface.jl:682",
      "  [8] value(v::VariableRef; result::Int64)",
      "    @ JuMP ~/.julia/packages/JuMP/KiENn/src/variables.jl:1297",
      "  [9] value",
      "    @ ~/.julia/packages/JuMP/KiENn/src/variables.jl:1296 [inlined]",
      " [10] _broadcast_getindex_evalf",
      "    @ ./broadcast.jl:683 [inlined]",
      " [11] _broadcast_getindex",
      "    @ ./broadcast.jl:656 [inlined]",
      " [12] getindex",
      "    @ ./broadcast.jl:610 [inlined]",
      " [13] macro expansion",
      "    @ ./broadcast.jl:974 [inlined]",
      " [14] macro expansion",
      "    @ ./simdloop.jl:77 [inlined]",
      " [15] copyto!",
      "    @ ./broadcast.jl:973 [inlined]",
      " [16] copyto!",
      "    @ ./broadcast.jl:926 [inlined]",
      " [17] copy",
      "    @ ./broadcast.jl:898 [inlined]",
      " [18] materialize(bc::Base.Broadcast.Broadcasted{Base.Broadcast.DefaultArrayStyle{1}, Nothing, typeof(value), Tuple{Vector{VariableRef}}})",
      "    @ Base.Broadcast ./broadcast.jl:873",
      " [19] top-level scope",
      "    @ In[121]:14"
     ]
    }
   ],
   "source": [
    "A = [-0.26 0.97; 0.42 -0.91; 0.91 -0.42; -0.82 -0.57; 1.0 0]\n",
    "b = [5.0; 1.0; 8.0; -1.5; -3]\n",
    "\n",
    "m = Model(Clp.Optimizer)\n",
    "@variable(m, r >= 0)           \n",
    "@variable(m, x[1:2]) \n",
    "for i = 1:size(A,1)\n",
    "    @constraint(m, dot(A[i,:],x) + r*norm(A[i,:]) <= b[i])\n",
    "end\n",
    "@objective(m, Max, r)\n",
    "\n",
    "optimize!(m)\n",
    "\n",
    "xc,yc = JuMP.value.(x)\n",
    "r = JuMP.objective_value(m)\n",
    "println(\"As coordenadas são: \",[xc,yc])\n",
    "println(\"O maior raio é: \", r)"
   ]
  },
  {
   "cell_type": "markdown",
   "metadata": {},
   "source": [
    "Deu esse erro"
   ]
  },
  {
   "cell_type": "markdown",
   "metadata": {},
   "source": [
    "## Problema 7 (Geometria de LP)\n",
    "\n",
    "- (a) Determine se $\\bar{x} = (1,1,1,1)$ é vértice do poliédro $P$ definido pelas desigualdades lineares:\n",
    "$$\n",
    "\\begin{bmatrix} -1 & -6 & 1 & 3\\\\-1 & -2 & 7 & 1\\\\0 & 3 & -10 & -1\\\\-6 & -11 & -2 & 12\\\\1 & 6 & -1 & -3\\end{bmatrix} \\begin{bmatrix} x_1 \\\\ x_2 \\\\ x_3 \\\\ x_4 \\end{bmatrix} \\leq \\begin{bmatrix} -3 \\\\ 5 \\\\ -8 \\\\ -7 \\\\ 4 \\end{bmatrix}\n",
    "$$\n",
    "- Se sim, determine um vetor $c$ tal que $\\bar{x}$ seja o minmizador único de $c^T x$ sobre $P$.\n",
    "- (b) mesma pergunta para o poliédro definido pelas desigualdades\n",
    "$$\n",
    "\\begin{bmatrix} 0 & -5 & -2 & -5\\\\-7 & -7 & -2 & -2\\\\-4 & -4 & -7 & -7\\\\-8 & -3 & -3 & -4\\\\-4 & -4 & 2 & -2\\end{bmatrix} \\begin{bmatrix} x_1 \\\\ x_2 \\\\ x_3 \\\\ x_4 \\end{bmatrix} \\leq \\begin{bmatrix} -12 \\\\ -17 \\\\ -22 \\\\ -18 \\\\ -8 \\end{bmatrix}\n",
    "$$\n",
    "e, adicionalmente, a igualdade $8x_1 - 7x_2 - 10x_3 -11x_4 = -20$."
   ]
  },
  {
   "cell_type": "markdown",
   "metadata": {},
   "source": [
    "### Solução do problem 7:"
   ]
  },
  {
   "cell_type": "markdown",
   "metadata": {},
   "source": [
    "a:"
   ]
  },
  {
   "cell_type": "code",
   "execution_count": null,
   "metadata": {},
   "outputs": [
    {
     "name": "stdout",
     "output_type": "stream",
     "text": [
      "[-3, 5, -8, -7, 3]\n"
     ]
    }
   ],
   "source": [
    "#x = [1; 1; 1; 1]\n",
    "# para ser vertice Ax = B\n",
    "\n",
    "A = [-1 -6 1 3; -1 -2 7 1; 0 3 -10 -1; -6 -11 -2 12; 1 6 -1 -3]\n",
    "x = [1; 1; 1; 1]\n",
    "b = [-3; 5; -8; -7; 4]\n",
    "\n",
    "println(A * c)\n",
    "\n",
    "\n"
   ]
  },
  {
   "cell_type": "markdown",
   "metadata": {},
   "source": [
    "Ja que Ax é diferente de B, x = (1 1 1 1) não é vértice"
   ]
  },
  {
   "cell_type": "markdown",
   "metadata": {},
   "source": [
    "b:"
   ]
  },
  {
   "cell_type": "code",
   "execution_count": null,
   "metadata": {},
   "outputs": [
    {
     "name": "stdout",
     "output_type": "stream",
     "text": [
      "[-12, -18, -22, -18, -8]\n"
     ]
    }
   ],
   "source": [
    "A = [0 -5 -2 -5; -7 -7 -2 -2; -4 -4 -7 -7; -8 -3 -3 -4; -4 -4 2 -2]\n",
    "x = [1; 1; 1; 1]\n",
    "b = [-12; -17; -22; -18; -8]\n",
    "\n",
    "println(A * c)"
   ]
  },
  {
   "cell_type": "markdown",
   "metadata": {},
   "source": [
    "Também nao é vértice"
   ]
  },
  {
   "cell_type": "markdown",
   "metadata": {},
   "source": [
    "## Problema 8 (Grid elétrico com armazenamento de energia)\n",
    "\n",
    "A cidade Varre-Sai compra sua energia elétrica da utilidade Ampla que cobre por hora. Se for utilizado menos de 50MWh durante uma determinada hora do dia,  o custo é 100 reais por MWh. Qualquer excedente (além de 50 MWh) durante esta hora custa 400 reais por MWh. A energia máxima que Ampla pode fornecer (em qualquer intervalo de uma hora) é 75 MWh. As tabelas abaixo mostram a demanda diária média hora a hora para a cidade Varre-Sai durante o mes de janeiro.\n",
    "\n",
    "| Hora do dia (manhã) | 01 | 02 | 03 | 04 | 05 | 06 | 07 | 08 | 09 | 10| 11| 12|\n",
    "|:-------------------:|:-:|:-:|:-:|:-:|:-:|:-:|:-:|:-:|:-:|:-:|:-:|:-:|\n",
    "| Demanda (MWh)       | 43| 40| 36| 36| 35| 38| 41| 46| 49| 48| 47| 47|\n",
    "\n",
    "| Hora do dia ( tarde )| 13| 14| 15| 16| 17| 18| 19| 20| 21| 22| 23| 24|\n",
    "|:-------------------:|:-:|:-:|:-:|:-:|:-:|:-:|:-:|:-:|:-:|:-:|:-:|:-:|\n",
    "| Demanda (MWh)       | 48| 46| 45| 47| 50| 63| 75| 75| 72| 66| 57| 50|\n",
    "\n",
    "O prefeito de Varre-Sai está preocupado com o gasto alto na parte da tarde e o risco de blecautes por volta de 19h por conta da demanda média alta (perigosamente) próxima ao limite de 75 MWh estipulado pela Ampla.\n",
    "\n",
    "Para contornar estes problemas potenciais, o prefeito comprou uma bateria grande com capacidade de armazenamento de 30 MWh. A ideia seria comprar mais energia (do que a demanda na primeira parte do dia, quando energia custa menos), armazenar na bateria e utilizar nos horários de pico mais tarde, quando tanto a demanda como o preço atingem valores altos.\n",
    "1. Quanto dinheiro a cidade de Varre-Sai poderia economizar graças a bateria? Suponha que a bateria começa o dia completamente descarregada, e que, para maior segurança em relação aos  blecautes, limita-se a 65 MWh a quantidade de eletricidade comprada por hora.\n",
    "2. Quanto dinheiro seria economizado se a bateria tivesse capacidade infinita?\n",
    "3. Plote um gráfico que mostra:\n",
    "     1. a demanda de energia típica (da tabela) versus a hora do dia.\n",
    "     2. a eletricidade comprada utilizando a estratégia encontrada no item 1 versus a hora do dia (plote ambos os gráficos nos mesmos eixos)."
   ]
  },
  {
   "cell_type": "markdown",
   "metadata": {},
   "source": [
    "### Solução do problem 8:"
   ]
  },
  {
   "cell_type": "markdown",
   "metadata": {},
   "source": [
    "1:"
   ]
  },
  {
   "cell_type": "code",
   "execution_count": null,
   "metadata": {},
   "outputs": [
    {
     "name": "stdout",
     "output_type": "stream",
     "text": [
      "Custo sem bateria: $148000\n",
      "Custo com bateria: R$139000.0\n",
      "Economia obtida: R$9000.0\n",
      "Coin0506I Presolve 47 (-2) rows, 70 (-3) columns and 140 (-5) elements\n",
      "Clp0006I 0  Obj 8439.9993 Primal inf 1104.6 (23)\n",
      "Clp0006I 31  Obj 97380 Primal inf 1724.2 (19)\n",
      "Clp0006I 66  Obj 139000\n",
      "Clp0000I Optimal - objective value 139000\n",
      "Coin0511I After Postsolve, objective 139000, infeasibilities - dual 0 (0), primal 0 (0)\n",
      "Clp0032I Optimal objective 139000 - 66 iterations time 0.002, Presolve 0.00\n"
     ]
    }
   ],
   "source": [
    "demandas = [43, 40, 36, 36, 35, 38, 41, 46, 49, 48, 47, 47, 48, 46, 45, 47, 50, 63, 75, 75, 72, 55, 57, 50]\n",
    "custos = [100, 400]\n",
    "\n",
    "custo_total = 0 \n",
    "limite = 50 \n",
    "\n",
    "for i in demandas\n",
    "    if i < limite\n",
    "        custo_total += custos[1]*i \n",
    "    else \n",
    "        excedente = i-limite \n",
    "        custo_total += custos[1]*limite + custos[2]*excedente\n",
    "    end\n",
    "end\n",
    "\n",
    "println(\"Custo sem bateria: \\$\", JuMP.value.(custo_total))\n",
    "\n",
    "m = Model(Clp.Optimizer)\n",
    "\n",
    "@variable(m, 0 <= normal[1:24] <= 50)        \n",
    "@variable(m, 0 <= extra[1:24] <= 25)        \n",
    "@variable(m, 0 <= gerador[1:25] <= 30)       \n",
    "\n",
    "@constraint(m, gerador[1] == 0)              \n",
    "@constraint(m, fluxo[i in 1:24], extra[i]+normal[i]+gerador[i]==demandas[i]+gerador[i+1])     \n",
    "@constraint(m, energia[i in 1:24], extra[i]+normal[i] <= 65)    \n",
    "\n",
    "total = [sum(normal) sum(extra)] \n",
    "\n",
    "@objective(m, Min, dot(custos,total))         \n",
    "\n",
    "optimize!(m)\n",
    "\n",
    "println(\"Custo com bateria: R\\$\", JuMP.objective_value.(m))\n",
    "println(\"Economia obtida: R\\$\", JuMP.value.(custo_total) - JuMP.objective_value.(m))\n"
   ]
  },
  {
   "cell_type": "markdown",
   "metadata": {},
   "source": [
    "2:"
   ]
  },
  {
   "cell_type": "code",
   "execution_count": null,
   "metadata": {},
   "outputs": [
    {
     "name": "stdout",
     "output_type": "stream",
     "text": [
      "Custo com bateria infinita: R$118900.0\n",
      "Economia obtida: R$29100.0\n",
      "Coin0506I Presolve 46 (-3) rows, 69 (-4) columns and 138 (-7) elements\n",
      "Clp0006I 0  Obj 1789.9999 Primal inf 1171.1 (22)\n",
      "Clp0006I 31  Obj 102700 Primal inf 1192.5 (22)\n",
      "Clp0006I 63  Obj 118900\n",
      "Clp0000I Optimal - objective value 118900\n",
      "Coin0511I After Postsolve, objective 118900, infeasibilities - dual 0 (0), primal 0 (0)\n",
      "Clp0032I Optimal objective 118900 - 63 iterations time 0.002, Presolve 0.00\n"
     ]
    }
   ],
   "source": [
    "m = Model(Clp.Optimizer)\n",
    "\n",
    "@variable(m, 0 <= normal[1:24] <= 50)        \n",
    "@variable(m, 0 <= extra[1:24] <= 25)        \n",
    "@variable(m, 0 <= gerador[1:25])             \n",
    "\n",
    "@constraint(m, gerador[1] == 0)              \n",
    "@constraint(m, fluxo[i in 1:24],  extra[i]+normal[i]+gerador[i]==demandas[i]+gerador[i+1])     \n",
    "@constraint(m, energia[i in 1:24], extra[i]+normal[i] <= 65)     \n",
    "\n",
    "total = [sum(normal) sum(extra)]\n",
    "\n",
    "@objective(m, Min, dot(custos,total))         \n",
    "\n",
    "optimize!(m)\n",
    "\n",
    "println(\"Custo com bateria infinita: R\\$\", JuMP.objective_value.(m))\n",
    "println(\"Economia obtida: R\\$\", JuMP.value.(custo_total) - JuMP.objective_value.(m))\n"
   ]
  },
  {
   "cell_type": "markdown",
   "metadata": {},
   "source": [
    "## Problema 9 (Construção de um estádio esportivo [sob regime de anti-propina!])\n",
    "Uma cidade pequena deseja construir um estádio (também pequeno). Após licitação, uma empreiteira ganha o contrato e deseja cumprir a tarefa no menor tempo possível. Todas as grandes tarefas estão listadas na tabela abaixo. Algumas podem ser iniciadas apenas quando as tarefas predecessoras tiverem sido concluídas e esta dependência está registrada na quarta coluna.\n",
    "\n",
    "|Tarefa | Descrição | Duração (em semanas)| Tarefas predecessoras | Redução máxima (em semanas)| Custo da redução (R\\$1k/semana) |\n",
    "|:---:|:----------:|:------------------:|:------------:|:---------------------------:|:---------------------------:|\n",
    "|1 |Instalação no local de construção |2 | não há | 0 | -- |\n",
    "| 2| Terraplenagem | 16 | 1 | 3 | 30 |\n",
    "|3 |Construção da fundação | 9 | 2 | 1 | 26 |\n",
    "| 4 |Ruas de acesso e outras redes | 8 | 2 | 2 | 12 |\n",
    "| 5 | Construir o porão | 10 | 3 | 2 | 17 |\n",
    "| 6 | Piso principal | 6 | 4,5 | 1 | 15 |\n",
    "| 7 | Divisão do vestiário | 2 | 4 | 1 | 8 |\n",
    "| 8 | Instalação elétrica nas arquibancadas | 2 | 6 | 0 | -- |\n",
    "|9  | Construção da cobertura | 9 | 4,6 | 2 | 42 |\n",
    "|10 | Iluminação do estádio | 5 | 4 | 1 | 21 |\n",
    "| 11 | Instalações nas arquibancadas | 3 | 6 | 1 |18 |\n",
    "| 12 | Impermeabilização da cobertura | 2 | 9 | 0 | -- |\n",
    "| 13 | Acabamento do vestiário | 1 | 7 | 0 | -- |\n",
    "| 14 | Construção da bilheteria | 7 | 2 | 2 | 22 |\n",
    "| 15 | Ruas de acesso secundárias | 4 | 4,14 | 2 | 12 |\n",
    "|16  | Placar e altofalantes |3 | 8,11,14 | 1 | 6 |\n",
    "|17 | Gramado e acessórios para esportes | 9 | 12 | 3 | 16 |\n",
    "|18 | Entrega do estádio | 1 | 17 | 0 | -- |\n",
    "\n",
    "As perguntas que a empreiteira quer que sejam respondidas são as seguintes:\n",
    "1. Qual a data mais cedo para o término da construção? Note que as últimas duas colunas não são  relevantes para este item. \n",
    "2. Para algumas tarefas a empreiteira pode contratar operários extra e alugar mais equipamento para reduzir o tempo total. As últimas duas colunas mostram o número máximo de semanas poupadas por tarefa e o custo adicional associado por semana, por conta do trabalho extra. Plote um gráfico de compromisso (\"tradeoff\") mostrando o custo extra em função do número de semanas poupadas.\n",
    "3. A prefeitura da cidade gostaria que a obra fosse terminada antes da data combinada e anunciada (resposta do item  1). Como incentivo, a prefeitura propõe pagar um bônus de R\\$30k por cada semana de antecipação da data de término da obra. Quando terminará o projeto se a empreiteira deseja maximizar seu lucro?"
   ]
  },
  {
   "cell_type": "markdown",
   "metadata": {},
   "source": [
    "### Solução do problem 9:"
   ]
  },
  {
   "cell_type": "markdown",
   "metadata": {},
   "source": [
    "1:"
   ]
  },
  {
   "cell_type": "code",
   "execution_count": null,
   "metadata": {},
   "outputs": [
    {
     "name": "stdout",
     "output_type": "stream",
     "text": [
      "1-dimensional DenseAxisArray{Float64,1,...} with index sets:\n",
      "    Dimension 1, Any[:a, :b, :c, :d, :e, :f, :g, :h, :i, :j, :k, :l, :m, :n, :o, :p, :q, :r]\n",
      "And data, a 18-element Vector{Float64}:\n",
      "  0.0\n",
      "  2.0\n",
      " 18.0\n",
      " 18.0\n",
      " 27.0\n",
      " 37.0\n",
      " 26.0\n",
      " 43.0\n",
      " 43.0\n",
      " 26.0\n",
      " 43.0\n",
      " 52.0\n",
      " 28.0\n",
      " 18.0\n",
      " 26.0\n",
      " 46.0\n",
      " 54.0\n",
      " 63.0\n",
      "duracao minima: 64.0 semanas\n",
      "Coin0506I Presolve 0 (-23) rows, 0 (-18) columns and 0 (-45) elements\n",
      "Clp3002W Empty problem - 0 rows, 0 columns and 0 elements\n",
      "Clp0000I Optimal - objective value 64\n",
      "Coin0511I After Postsolve, objective 64, infeasibilities - dual 0 (0), primal 0 (0)\n",
      "Clp0032I Optimal objective 64 - 0 iterations time 0.002, Presolve 0.00\n"
     ]
    }
   ],
   "source": [
    "tasks = []\n",
    "for i = 'a':'r'\n",
    "    push!(tasks, Symbol(i))    \n",
    "end\n",
    "\n",
    "dur = [ 2, 16, 9, 8, 10, 6, 2, 2, 9, 5, 3, 2, 1, 7, 4, 3, 9, 1]\n",
    "duration = Dict(zip(tasks,dur))\n",
    "\n",
    "pre = ( [], [:a], [:b], [:b], [:c], [:d, :e], [:d], [:f], [:d,:f], [:d], [:f], [:i], [:g],\n",
    "    [:b], [:d,:n], [:h,:k,:n], [:l], [:q])\n",
    "pred = Dict(zip(tasks,pre));\n",
    "\n",
    "m = Model(Clp.Optimizer)\n",
    "\n",
    "@variable(m, tstart[tasks])\n",
    "\n",
    "for i in tasks\n",
    "    for j in pred[i]\n",
    "        @constraint(m, tstart[i] >= tstart[j] + duration[j])\n",
    "    end\n",
    "end\n",
    "@constraint(m, tstart[:a] == 0)\n",
    "\n",
    "@objective(m, Min, tstart[:r] + duration[:r])   \n",
    "\n",
    "optimize!(m)\n",
    "println(JuMP.value.(tstart))\n",
    "println(\"duracao minima: \",  JuMP.value.(tstart[:r]) + duration[:r], \" semanas\")"
   ]
  },
  {
   "cell_type": "markdown",
   "metadata": {},
   "source": [
    "2:"
   ]
  },
  {
   "cell_type": "code",
   "execution_count": null,
   "metadata": {},
   "outputs": [
    {
     "data": {
      "image/png": "[encoded data removed]",
      "text/plain": [
       "Figure(PyObject <Figure size 640x480 with 1 Axes>)"
      ]
     },
     "metadata": {},
     "output_type": "display_data"
    },
    {
     "data": {
      "text/plain": [
       "PyObject Text(0.5, 1.0, 'Custo Extra x Semanas Poupadas')"
      ]
     },
     "execution_count": 9,
     "metadata": {},
     "output_type": "execute_result"
    }
   ],
   "source": [
    "semanas = [0, 3, 1, 2, 2, 1, 1, 0, 2, 1, 1, 0, 0, 2, 2, 1, 3, 0] \n",
    "custo = [0, 30, 26, 12, 17, 15, 8, 0, 42, 21, 18, 0, 0, 22, 12, 6, 16, 0]\n",
    "aux = 0\n",
    "semanas_total = []\n",
    "custo_total = []\n",
    "custo_acumulado = []\n",
    "j=1\n",
    "\n",
    "for i in semanas\n",
    "    push!(semanas_total, i+aux)\n",
    "    aux = aux + i\n",
    "    push!(custo_acumulado, custo[j]*semanas[j])\n",
    "    j = j+1\n",
    "end\n",
    "\n",
    "for i in custo_acumulado\n",
    "    push!(custo_total, i+aux)\n",
    "    aux = aux + i\n",
    "end\n",
    "\n",
    "plot(semanas_total, custo_total, color=\"red\", linewidth=2.0);\n",
    "grid(\"on\");\n",
    "title(\"Custo Extra x Semanas Poupadas\")"
   ]
  },
  {
   "cell_type": "markdown",
   "metadata": {},
   "source": [
    "## Problema 10: (Clássico: dieta ótima)"
   ]
  },
  {
   "cell_type": "markdown",
   "metadata": {},
   "source": [
    "Suponha que uma certa dieta alimentar esteja baseada nos alimentos (em parêntesis vemos as unidades utilizadas): \n",
    "leite desnatado (litro) , carne magra de boi (Kg), carne de frango (kg) e batata doce (100 g). \n",
    "Sabendo-se que os requisitos nutricionais serão expressos em termos de vitaminas A,C, e D e controlados por \n",
    "suas quantidades mínimas (em miligramas), uma vez que são indispensáveis à preservação da saúde da pessoa \n",
    "que estará se submetendo a dieta. A Tabela abaixo resume a quantidade de cada vitamina em disponibilidade \n",
    "**em cada unidade considerada dos alimentos**, sua necessidade diária para a boa saúde de uma pessoa e o custo \n",
    "(em reais) de cada unidade do alimento considerado. Modele e resolva o problema de forma a minimizar os gastos com a \n",
    "compra dos alimentos, obedecendo às quantidades mínimas recomendadas em relação às vitaminas.\n",
    "\n",
    "Tabela: Dados do problema da dieta\n",
    "\n",
    "|Alim.$\\rightarrow$|leite | carne |frango | batata | Qtd. Mín. |\n",
    "|------------------|------|-------|-------|--------|-----------|\n",
    "|Vit.$\\downarrow$ |  \n",
    "|A |2 |2 |5 |4 |11 |\n",
    "|C |50 | 20 | 10 | 45| 70 |\n",
    "|D |80 |70 |10 |60 |250|\n",
    "| |\n",
    "|Custo $\\rightarrow$ |5 |40 |20 |2 |\n",
    "\n",
    "\n"
   ]
  },
  {
   "cell_type": "markdown",
   "metadata": {},
   "source": [
    "### Solução do problem 10:"
   ]
  },
  {
   "cell_type": "code",
   "execution_count": null,
   "metadata": {},
   "outputs": [
    {
     "name": "stdout",
     "output_type": "stream",
     "text": [
      "Custo mínimo.: 8.333333333333332\n",
      "Leite: 0.0. Carne: 0.0. Frango: 0.0. Batata: 4.166666666666666\n",
      "Coin0506I Presolve 3 (0) rows, 4 (0) columns and 12 (0) elements\n",
      "Clp0006I 0  Obj 0 Primal inf 6.7249997 (3)\n",
      "Clp0006I 1  Obj 8.3333333\n",
      "Clp0000I Optimal - objective value 8.3333333\n",
      "Clp0032I Optimal objective 8.333333333 - 1 iterations time 0.002\n"
     ]
    }
   ],
   "source": [
    "m = Model(Clp.Optimizer)\n",
    "\n",
    "A = [2 2 5 4; 50 20 10 45; 80 70 10 60]\n",
    "b = [11; 70 ;250]\n",
    "c = [5; 40; 20; 2]\n",
    "\n",
    "@variable(m, x[1:4] >= 0)\n",
    "\n",
    "@constraint(m, A*x .>= b ) \n",
    "\n",
    "@objective(m, Min, dot(c,x)) \n",
    "\n",
    "optimize!(m)\n",
    "\n",
    "leite, carne, frango, batata = JuMP.value.(x)\n",
    "println(\"Custo mínimo.: \", JuMP.value.(dot(c,x)))\n",
    "println(\"Leite: \", leite, \". Carne: \", carne, \". Frango: \", frango,\". Batata: \", batata)"
   ]
  }
 ],
 "metadata": {
  "@webio": {
   "lastCommId": null,
   "lastKernelId": null
  },
  "anaconda-cloud": {},
  "kernelspec": {
   "display_name": "Julia 1.9.2",
   "language": "julia",
   "name": "julia-1.9"
  },
  "language_info": {
   "file_extension": ".jl",
   "mimetype": "application/julia",
   "name": "julia",
   "version": "1.9.2"
  }
 },
 "nbformat": 4,
 "nbformat_minor": 2
}
